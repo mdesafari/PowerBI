{
 "cells": [
  {
   "cell_type": "markdown",
   "metadata": {},
   "source": [
    "# **What will be covered**\n",
    "\n",
    "<img src=\"./Images/etl_process.png\" width=\"550px\" />\n",
    "<img src=\"./Images/data_model_used.png\" width=\"350px\" />"
   ]
  },
  {
   "cell_type": "markdown",
   "metadata": {},
   "source": [
    "## **Step 1: ETL (Extract Transform Load) process using Power BI**\n",
    "\n",
    "ETL stands for Extract, Transform, Load. It is a process used in data integration and data warehousing. In ETL, data is first **extracted from various sources**, then **transformed or manipulated to meet specific requirements**, and finally **loaded into a target system or database for analysis and reporting purposes**."
   ]
  },
  {
   "cell_type": "markdown",
   "metadata": {},
   "source": [
    "### **Extract**\n",
    "\n",
    "This operation involves extracting or retrieving data from various sources such as databases, files, APIs, or web services. The data is collected and copied from the source systems to a staging area.\n",
    "\n",
    "In our case, we have data from different sources, each with a specific data format: `(a) CSV (b) JSON (c) XML and (d) XLSX`."
   ]
  },
  {
   "cell_type": "markdown",
   "metadata": {},
   "source": [
    "### **Transform**\n",
    "\n",
    "In this operation, the extracted data undergoes transformations to ensure its quality, consistency, and compatibility. Transformations include cleaning, filtering, aggregating, joining, and restructuring the data as per the business requirements.\n",
    "\n",
    "In our case, we will make only three transformations in the `following order`:\n",
    "\n",
    "* **Transformation 1:** remove blank rows in `phones` table\n",
    "\n",
    "In `phones`, we have 10% of blank rows.\n",
    "\n",
    "* **Transformation 2:** create a date table from `salaries` table\n",
    "\n",
    "For that, we will go to `Data View` > Select `Salaries` table > `Table tools` > `New Table` and write the following:\n",
    "\n",
    "Calendar = CALENDARAUTO()\n",
    "\n",
    "And after, add new columns:\n",
    "\n",
    "`Year = YEAR('Calendar'[Date])`\n",
    "\n",
    "`Month Number = MONTH('Calendar'[Date])`\n",
    "\n",
    "`Month = FORMAT('Calendar'[Date], \"mmmm\")`\n",
    "\n",
    "* **Transformation 3:** join the tables following the data model\n",
    "\n",
    "<img src=\"./Images/data_model_proj.png\" width=\"400px\" />\n",
    "\n",
    "<img src=\"./Images/data_model_pwbi.png\" width=\"450px\" />"
   ]
  },
  {
   "cell_type": "markdown",
   "metadata": {},
   "source": [
    "### **Load**\n",
    "\n",
    "The transformed data is loaded into the target system, typically a data warehouse, a data mart, or a database. This step involves mapping the transformed data to the appropriate tables or schema in the target system.\n",
    "\n",
    "In our case, the target system is our current Power BI project' store."
   ]
  },
  {
   "cell_type": "markdown",
   "metadata": {},
   "source": [
    "## **Step 2: Data visualization with Power BI**\n",
    "\n",
    "Power BI is a data visualization tool by Microsoft. It allows users to **connect to different data sources (Extract)**, **transform these data**, **create interactive visualizations**, and **generate reports and dashboards**. Its intuitive interface and extensive range of visualization options make it a popular choice for analyzing and presenting data in a visually appealing and meaningful way."
   ]
  },
  {
   "cell_type": "markdown",
   "metadata": {},
   "source": [
    "### **Questions**"
   ]
  },
  {
   "cell_type": "markdown",
   "metadata": {},
   "source": [
    "#### **Question 1: Which country has the highest number of employees?**\n",
    "\n",
    "Use a Bar Chart where Y-axis is `country_code` and X-axis is a unique identifier of a given employee with a string type. Here, it is `first_name`. So, Power BI will count, for each country, the number of unique `first_name`.\n",
    "\n",
    "<img src=\"./Images/employees_per_country.png\" width=\"200px\" />"
   ]
  },
  {
   "cell_type": "markdown",
   "metadata": {},
   "source": [
    "#### **Question 2: Is there a difference in the average salary depending on the pay month?**\n",
    "\n",
    "Use a Stacked histogram where Y-axis is `salary` (from `salaries` table) and X-axis is `month` from `Calendar` table (as it is linked to `pay date` from `salaries` table). So, Power BI will calculate, for each month, the average salary: this is an aggregation ops.\n",
    "\n",
    "<img src=\"./Images/avg_salary_per_month.png\" width=\"300px\" />"
   ]
  },
  {
   "cell_type": "markdown",
   "metadata": {},
   "source": [
    "#### **Question 1: Which are the 5 countries with the lowest average salaries?**\n",
    "\n",
    "Use a Bar Chart where Y-axis is `country_code` (from `companies` table) and X-axis is `salary` (from `salaries` table). So, Power BI will calculate the average salary, for each country. Then, order in ascending order.\n",
    "\n",
    "<img src=\"./Images/salaries_per_country_tuto.png\" width=\"300px\" />"
   ]
  }
 ],
 "metadata": {
  "language_info": {
   "name": "python"
  }
 },
 "nbformat": 4,
 "nbformat_minor": 2
}
